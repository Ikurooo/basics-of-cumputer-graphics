{
 "cells": [
  {
   "cell_type": "markdown",
   "metadata": {},
   "source": [
    "First, we import everything we will need to run the code. We will use the package autoreload to reload the changes done in the files automatically. This is followed by the general import commands (import datastructures) to make use of functions defined in datastructures.py "
   ]
  },
  {
   "cell_type": "code",
   "execution_count": 12,
   "metadata": {},
   "outputs": [
    {
     "name": "stdout",
     "output_type": "stream",
     "text": [
      "The autoreload extension is already loaded. To reload it, use:\n",
      "  %reload_ext autoreload\n"
     ]
    }
   ],
   "source": [
    "%load_ext autoreload\n",
    "%autoreload 1\n",
    "%aimport datastructures\n",
    "import datastructures"
   ]
  },
  {
   "cell_type": "markdown",
   "metadata": {},
   "source": [
    "We define some basic vectors that we will be working with in the upcoming sections."
   ]
  },
  {
   "cell_type": "code",
   "execution_count": 13,
   "metadata": {},
   "outputs": [
    {
     "name": "stdout",
     "output_type": "stream",
     "text": [
      "v1 : [1 1 2]\n",
      "v2 : [4 2 9]\n",
      "M : [[1 2 2]\n",
      " [2 0 1]\n",
      " [9 0 4]]\n"
     ]
    }
   ],
   "source": [
    "v1, v2, M = datastructures.define_structures()\n",
    "print(f'v1 : {v1}')\n",
    "print(f'v2 : {v2}')\n",
    "print(f'M : {M}')"
   ]
  },
  {
   "cell_type": "markdown",
   "metadata": {},
   "source": [
    "-----\n",
    "\n",
    "Now, we generate a sequence with step size 0.25 from the minimum and maximum of matrix M."
   ]
  },
  {
   "cell_type": "code",
   "execution_count": 14,
   "metadata": {},
   "outputs": [
    {
     "name": "stdout",
     "output_type": "stream",
     "text": [
      "[0.   0.25 0.5  0.75 1.   1.25 1.5  1.75 2.   2.25 2.5  2.75 3.   3.25\n",
      " 3.5  3.75 4.   4.25 4.5  4.75 5.   5.25 5.5  5.75 6.   6.25 6.5  6.75\n",
      " 7.   7.25 7.5  7.75 8.   8.25 8.5  8.75 9.  ]\n",
      "[0.   0.25 0.5  0.75 1.   1.25 1.5  1.75 2.   2.25 2.5  2.75 3.   3.25\n",
      " 3.5  3.75 4.   4.25 4.5  4.75 5.   5.25 5.5  5.75 6.   6.25 6.5  6.75\n",
      " 7.   7.25 7.5  7.75 8.   8.25 8.5  8.75 9.  ]\n"
     ]
    }
   ],
   "source": [
    "seq = datastructures.sequence(M)\n",
    "print(seq)"
   ]
  },
  {
   "cell_type": "markdown",
   "metadata": {},
   "source": [
    "-----\n",
    "\n",
    "Last but not least, we can also define block matrices or other more complex arrays. Example a 15x9 matrix."
   ]
  },
  {
   "cell_type": "code",
   "execution_count": 15,
   "metadata": {},
   "outputs": [
    {
     "name": "stdout",
     "output_type": "stream",
     "text": [
      "(15, 9)\n",
      "[[1 2 2 0 0 0 1 2 2]\n",
      " [2 0 1 0 0 0 2 0 1]\n",
      " [9 0 4 0 0 0 9 0 4]\n",
      " [0 0 0 1 2 2 0 0 0]\n",
      " [0 0 0 2 0 1 0 0 0]\n",
      " [0 0 0 9 0 4 0 0 0]\n",
      " [1 2 2 0 0 0 1 2 2]\n",
      " [2 0 1 0 0 0 2 0 1]\n",
      " [9 0 4 0 0 0 9 0 4]\n",
      " [0 0 0 1 2 2 0 0 0]\n",
      " [0 0 0 2 0 1 0 0 0]\n",
      " [0 0 0 9 0 4 0 0 0]\n",
      " [1 2 2 0 0 0 1 2 2]\n",
      " [2 0 1 0 0 0 2 0 1]\n",
      " [9 0 4 0 0 0 9 0 4]]\n"
     ]
    }
   ],
   "source": [
    "mm = datastructures.matrix(M)\n",
    "print(mm.shape)\n",
    "print(mm)"
   ]
  },
  {
   "attachments": {},
   "cell_type": "markdown",
   "metadata": {},
   "source": [
    "### Implementation of numpy-functions\n",
    "\n",
    "Understanding numpy functions by implementing them myself.\n",
    "\n",
    "First we want to implement the function dot_product(v1,v2) that computes the dot-product of two 3-element vectors. "
   ]
  },
  {
   "cell_type": "code",
   "execution_count": 16,
   "metadata": {},
   "outputs": [
    {
     "name": "stdout",
     "output_type": "stream",
     "text": [
      "24\n"
     ]
    }
   ],
   "source": [
    "dot = datastructures.dot_product(v1,v2)\n",
    "print(dot)"
   ]
  },
  {
   "attachments": {},
   "cell_type": "markdown",
   "metadata": {},
   "source": [
    "----\n",
    "\n",
    "To proceed we are going to implement the function cross_product(v1,v2) that computes the cross-product of two 3-element vectors."
   ]
  },
  {
   "cell_type": "code",
   "execution_count": 17,
   "metadata": {},
   "outputs": [
    {
     "name": "stdout",
     "output_type": "stream",
     "text": [
      "[[0 0 0]\n",
      " [0 0 0]\n",
      " [0 0 0]]\n"
     ]
    }
   ],
   "source": [
    "cross = datastructures.cross_product(v1,v2)\n",
    "print(cross)"
   ]
  },
  {
   "attachments": {},
   "cell_type": "markdown",
   "metadata": {},
   "source": [
    "----\n",
    "\n",
    "Now we want to make the computation more general and replace one vector with a matrix. In this task we are going to implement the function vector_X_matrix(v,M) that multiplies a 3-element vector from the left with a 3x3 matrix."
   ]
  },
  {
   "cell_type": "code",
   "execution_count": 18,
   "metadata": {},
   "outputs": [
    {
     "name": "stdout",
     "output_type": "stream",
     "text": [
      "[21  2 11]\n"
     ]
    }
   ],
   "source": [
    "vec_X_mat = datastructures.vector_X_matrix(v1,M)\n",
    "print(vec_X_mat)"
   ]
  },
  {
   "attachments": {},
   "cell_type": "markdown",
   "metadata": {},
   "source": [
    "----\n",
    "\n",
    "Next we are going to perform a similar multiplication but from the other side. The function matrix_X_vector(v,M) multiplies a 3-element vector from the right with a 3x3 matrix."
   ]
  },
  {
   "cell_type": "code",
   "execution_count": 19,
   "metadata": {},
   "outputs": [
    {
     "name": "stdout",
     "output_type": "stream",
     "text": [
      "[26 17 72]\n"
     ]
    }
   ],
   "source": [
    "mat_X_vec = datastructures.matrix_X_vector(M,v2)\n",
    "print(mat_X_vec)"
   ]
  },
  {
   "attachments": {},
   "cell_type": "markdown",
   "metadata": {},
   "source": [
    "----\n",
    "\n",
    "In this task we are going to replace both vectors with matrices. The function matrix_X_matrix(M1,M2) multiplies two 3x3 matrices. M2 should be multiplied from the left with M1."
   ]
  },
  {
   "cell_type": "code",
   "execution_count": 20,
   "metadata": {},
   "outputs": [
    {
     "name": "stdout",
     "output_type": "stream",
     "text": [
      "[[ 9  4 17]\n",
      " [ 4  5 22]\n",
      " [17 22 97]]\n"
     ]
    }
   ],
   "source": [
    "mat_X_mat = datastructures.matrix_X_matrix(M, M.transpose())\n",
    "print(mat_X_mat)"
   ]
  },
  {
   "attachments": {},
   "cell_type": "markdown",
   "metadata": {},
   "source": [
    "----\n",
    "\n",
    "Last but not least we are going to perform a different way of multiplying two matrices. The function matrix_Xc_matrix(M1,M2) multplies the matrices M1 and M2 componentwise (Hadamard-product). Hence, every element of M1 is going to be mulitplied with every element of M2 that has the same coordinate."
   ]
  },
  {
   "cell_type": "code",
   "execution_count": 21,
   "metadata": {},
   "outputs": [
    {
     "name": "stdout",
     "output_type": "stream",
     "text": [
      "[[1, 4, 18], [4, 0, 0], [18, 0, 16]]\n"
     ]
    }
   ],
   "source": [
    "mat_Xc_mat = datastructures.matrix_Xc_matrix(M, M.transpose())\n",
    "print(mat_Xc_mat)"
   ]
  }
 ],
 "metadata": {
  "kernelspec": {
   "display_name": "Python 3",
   "language": "python",
   "name": "python3"
  },
  "language_info": {
   "codemirror_mode": {
    "name": "ipython",
    "version": 3
   },
   "file_extension": ".py",
   "mimetype": "text/x-python",
   "name": "python",
   "nbconvert_exporter": "python",
   "pygments_lexer": "ipython3",
   "version": "3.10.12"
  },
  "vscode": {
   "interpreter": {
    "hash": "2ec73de034c12c5b33fd31c70abee7e63f8e25e04d9e8cd3ff52ebd603f59606"
   }
  }
 },
 "nbformat": 4,
 "nbformat_minor": 2
}
