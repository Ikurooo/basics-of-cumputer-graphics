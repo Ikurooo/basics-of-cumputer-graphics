{
 "cells": [
  {
   "attachments": {},
   "cell_type": "markdown",
   "metadata": {},
   "source": [
    "## Images"
   ]
  },
  {
   "attachments": {},
   "cell_type": "markdown",
   "metadata": {},
   "source": [
    "First, we import everything we will need to run the code. We will use the package autoreload to reload the changes done in the files automatically."
   ]
  },
  {
   "cell_type": "code",
   "execution_count": null,
   "metadata": {},
   "outputs": [],
   "source": [
    "%load_ext autoreload\n",
    "%autoreload 1\n",
    "%aimport images\n",
    "\n",
    "import numpy as np\n",
    "import matplotlib.pyplot as plt\n",
    "import images\n",
    "\n",
    "# Optionally: Adjust size of image plot here \n",
    "plt.rcParams['figure.figsize'] = [5,5] \n",
    "plt.rcParams['figure.dpi'] = 150\n"
   ]
  },
  {
   "attachments": {},
   "cell_type": "markdown",
   "metadata": {},
   "source": [
    "----\n",
    "\n",
    "Firstly, we read in the image to enable dealing with it. Since we are using Pillow, the type of the image is a PIL JPEG Image. Its pixels are uint8. You should see the mandrill below."
   ]
  },
  {
   "cell_type": "code",
   "execution_count": null,
   "metadata": {},
   "outputs": [],
   "source": [
    "image = images.read_img('images/mandrill_color.jpg')\n",
    "print(f'Datatype of img: {type(image)}')\n",
    "plt.imshow(image)\n"
   ]
  },
  {
   "attachments": {},
   "cell_type": "markdown",
   "metadata": {},
   "source": [
    "----\n",
    "\n",
    "The function convert which converts the RGB image to a numpy array as well as transforms its pixel values from [0,255] to [0,1]. "
   ]
  },
  {
   "cell_type": "code",
   "execution_count": null,
   "metadata": {},
   "outputs": [],
   "source": [
    "image_float = images.convert(image)\n",
    "plt.imshow(image_float)\n",
    "print(f'Datatype of img_float: {type(image_float)}, min: {np.min(image_float)}, max: {np.max(image_float)}')\n",
    "print(f'Image shape: {image_float.shape}')"
   ]
  },
  {
   "attachments": {},
   "cell_type": "markdown",
   "metadata": {},
   "source": [
    "----\n",
    "\n",
    "ImWe can also swap the channels of an image."
   ]
  },
  {
   "cell_type": "code",
   "execution_count": null,
   "metadata": {},
   "outputs": [],
   "source": [
    "image_swapped = images.switch_channels(image_float)\n",
    "plt.imshow(image_swapped)"
   ]
  },
  {
   "attachments": {},
   "cell_type": "markdown",
   "metadata": {},
   "source": [
    "----\n",
    "\n",
    "Implementing the function image_mark_green() which operates on image_float and generates a mask with values v == 1 if the green channel of the image is greater or equal than 0.7, otherwise zero we get:"
   ]
  },
  {
   "cell_type": "code",
   "execution_count": null,
   "metadata": {},
   "outputs": [],
   "source": [
    "image_marked_green = images.image_mark_green(image_float)\n",
    "plt.imshow(image_marked_green)"
   ]
  },
  {
   "attachments": {},
   "cell_type": "markdown",
   "metadata": {},
   "source": [
    "Now we combine the mask and the image: In image_masked, set each pixel of the input image to zero if the mask is 1."
   ]
  },
  {
   "cell_type": "code",
   "execution_count": null,
   "metadata": {},
   "outputs": [],
   "source": [
    "image_masked = images.image_masked(image_float, image_marked_green)\n",
    "plt.imshow(image_masked)"
   ]
  },
  {
   "attachments": {},
   "cell_type": "markdown",
   "metadata": {},
   "source": [
    "----\n",
    "\n",
    "Some algorithms in Computer Vision operate on grayscale rather than RGB image. With the function grayscale, we want to convert the image from a three channel RGB to a one channel grayscale image."
   ]
  },
  {
   "cell_type": "code",
   "execution_count": null,
   "metadata": {},
   "outputs": [],
   "source": [
    "image_grayscale = images.grayscale(image_float)\n",
    "plt.imshow(image_grayscale, cmap='gray')\n"
   ]
  },
  {
   "attachments": {},
   "cell_type": "markdown",
   "metadata": {},
   "source": [
    "Next, we want to have a look at array manipulation techniques provided by numpy by implementing cut_and_reshape which cuts the image in half in x direction and stacks together the two parts in y dimension."
   ]
  },
  {
   "cell_type": "code",
   "execution_count": null,
   "metadata": {},
   "outputs": [],
   "source": [
    "image_reshaped = images.cut_and_reshape(image_grayscale)\n",
    "plt.imshow(image_reshaped, cmap='gray')"
   ]
  },
  {
   "attachments": {},
   "cell_type": "markdown",
   "metadata": {},
   "source": [
    "-----\n",
    "\n",
    "Now we'll try to blur the image using a Gauss filter."
   ]
  },
  {
   "cell_type": "code",
   "execution_count": null,
   "metadata": {},
   "outputs": [],
   "source": [
    "filtered_image = images.filter_image(image_swapped)\n",
    "plt.imshow(filtered_image)"
   ]
  },
  {
   "attachments": {},
   "cell_type": "markdown",
   "metadata": {},
   "source": [
    "------\n",
    "\n",
    "We can also make use of convolutions to detect edges in the image by using a sobel filter."
   ]
  },
  {
   "cell_type": "code",
   "execution_count": null,
   "metadata": {},
   "outputs": [],
   "source": [
    "image_edges = images.horizontal_edges(image_reshaped)\n",
    "plt.imshow(image_edges > 0.3, cmap='gray')"
   ]
  }
 ],
 "metadata": {
  "kernelspec": {
   "display_name": "evc",
   "language": "python",
   "name": "python3"
  },
  "language_info": {
   "codemirror_mode": {
    "name": "ipython",
    "version": 3
   },
   "file_extension": ".py",
   "mimetype": "text/x-python",
   "name": "python",
   "nbconvert_exporter": "python",
   "pygments_lexer": "ipython3",
   "version": "3.10.12"
  },
  "orig_nbformat": 4,
  "vscode": {
   "interpreter": {
    "hash": "3f784733ad3c34efbccbee5ed4ba41ecb7d693c8882c261a78a6c4cbb0716e58"
   }
  }
 },
 "nbformat": 4,
 "nbformat_minor": 2
}
